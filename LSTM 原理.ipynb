{
 "cells": [
  {
   "cell_type": "markdown",
   "id": "ee215b97",
   "metadata": {},
   "source": [
    "# LSTM 原理 "
   ]
  },
  {
   "cell_type": "code",
   "execution_count": 25,
   "id": "2671a20e",
   "metadata": {
    "scrolled": true
   },
   "outputs": [
    {
     "name": "stdout",
     "output_type": "stream",
     "text": [
      "input shape  (5, 60, 1)\n",
      "output shape  (5, 60, 30)\n",
      "wx shape  (1, 120)\n",
      "ux shape  (30, 120)\n",
      "b shape  (120,)\n",
      "hidden shape (5, 30)\n"
     ]
    },
    {
     "data": {
      "text/plain": [
       "'\\noutput shape的意思是包含了60个cell的h, 每个h的维度是m=30, output由所有cell输出的h组成\\n如果只取最后时刻的h作为输出的话, 就是\\noutput[:, -1, :]==>shape: [5, 30]\\n'"
      ]
     },
     "execution_count": 25,
     "metadata": {},
     "output_type": "execute_result"
    }
   ],
   "source": [
    "'''测试'''\n",
    "import numpy as np\n",
    "from tensorflow.keras.models import Sequential, Model\n",
    "from tensorflow.keras.layers import LSTM\n",
    "from tensorflow.keras.layers import Input\n",
    " \n",
    "bs = 5\n",
    "length = 60\n",
    "d = 1\n",
    "m = 30\n",
    "x = np.random.rand(bs, length, d)\n",
    "\n",
    "input_ = Input(shape=(length, d))\n",
    "\n",
    "lstm, hidden, cell = LSTM(units=m, return_state=True, return_sequences=True)(input_)\n",
    "model = Model(inputs=input_, outputs=(lstm, hidden, cell))\n",
    " \n",
    "print('input shape ',x.shape)\n",
    "output, hidden, cell = model(x)\n",
    "print('output shape ',output.shape)\n",
    "wx, ux, b = model.layers[1].trainable_weights\n",
    "print('wx shape ',wx.shape)\n",
    "print('ux shape ',ux.shape)\n",
    "print('b shape ',b.shape)\n",
    "print('hidden shape',hidden.shape)  # batch_size = 5， 这里是最后一个cell输出的h\n",
    "'''\n",
    "output shape的意思是包含了60个cell的h, 每个h的维度是m=30, output由所有cell输出的h组成\n",
    "如果只取最后时刻的h作为输出的话, 就是\n",
    "output[:, -1, :]==>shape: [5, 30]\n",
    "'''"
   ]
  },
  {
   "cell_type": "code",
   "execution_count": 21,
   "id": "d99cd485",
   "metadata": {},
   "outputs": [
    {
     "data": {
      "text/plain": [
       "(1, 30)"
      ]
     },
     "execution_count": 21,
     "metadata": {},
     "output_type": "execute_result"
    }
   ],
   "source": [
    "\n",
    "'''extract weights '''\n",
    "W = model.layers[1].get_weights()[0]\n",
    "U = model.layers[1].get_weights()[1]\n",
    "b = model.layers[1].get_weights()[2]\n",
    "\n",
    "units=m\n",
    "\n",
    "W_i = W[:, :units]\n",
    "W_f = W[:, units: units * 2]\n",
    "W_c = W[:, units * 2: units * 3]\n",
    "W_o = W[:, units * 3:]\n",
    "\n",
    "U_i = U[:, :units]\n",
    "U_f = U[:, units: units * 2]\n",
    "U_c = U[:, units * 2: units * 3]\n",
    "U_o = U[:, units * 3:]\n",
    "\n",
    "b_i = b[:units]\n",
    "b_f = b[units: units * 2]\n",
    "b_c = b[units * 2: units * 3]\n",
    "b_o = b[units * 3:]\n",
    "W_i.shape"
   ]
  }
 ],
 "metadata": {
  "kernelspec": {
   "display_name": "Python 3",
   "language": "python",
   "name": "python3"
  },
  "language_info": {
   "codemirror_mode": {
    "name": "ipython",
    "version": 3
   },
   "file_extension": ".py",
   "mimetype": "text/x-python",
   "name": "python",
   "nbconvert_exporter": "python",
   "pygments_lexer": "ipython3",
   "version": "3.9.4"
  }
 },
 "nbformat": 4,
 "nbformat_minor": 5
}
